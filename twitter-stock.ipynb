{
 "cells": [
  {
   "cell_type": "code",
   "execution_count": 1,
   "metadata": {},
   "outputs": [],
   "source": [
    "## import modules\n",
    "from splinter import Browser\n",
    "import requests\n",
    "import json\n",
    "from bs4 import BeautifulSoup as bs\n",
    "import pandas as pd\n",
    "from datetime import datetime as dt\n",
    "import numpy as np"
   ]
  },
  {
   "cell_type": "code",
   "execution_count": 2,
   "metadata": {},
   "outputs": [],
   "source": [
    "executable_path = {\"executable_path\": \"chromedriver\"}\n",
    "browser = Browser(\"chrome\", **executable_path, headless=False)"
   ]
  },
  {
   "cell_type": "code",
   "execution_count": 3,
   "metadata": {},
   "outputs": [],
   "source": [
    "# Build query Url and List of Stocks ticker\n",
    "base_url = \"https://finance.yahoo.com/quote/\"\n",
    "tickers = [\"AAPL\", \"FB\", \"IBM\", \"MSFT\"]"
   ]
  },
  {
   "cell_type": "code",
   "execution_count": 4,
   "metadata": {},
   "outputs": [],
   "source": [
    "# create and initialize list \n",
    "close_price_list = []\n",
    "volume_list = []\n",
    "mkt_cap_list = []\n",
    "earnings_Date_list = []\n",
    "eps_list = []"
   ]
  },
  {
   "cell_type": "code",
   "execution_count": 5,
   "metadata": {},
   "outputs": [],
   "source": [
    "for ticker in tickers:\n",
    "    # Visit Yahoo finance summary page\n",
    "    url1 = base_url + ticker + '?p=' + ticker + '&.tsrc=fin-srch'\n",
    "#     print(url1)\n",
    "    browser.visit(url1)\n",
    "    # Scrape Financial Data into Soup\n",
    "    html = browser.html\n",
    "    soup = bs(html, \"html.parser\")\n",
    "    summary = soup.find('table', class_=\"W(100%)\").find_all(class_=\"Trsdu(0.3s) \")\n",
    "    market_info = soup.find('table', class_=\"W(100%) M(0) Bdcl(c)\").find_all(class_=\"Trsdu(0.3s) \")\n",
    "    #print(summary)\n",
    "    #type(summary)\n",
    "    # close_price = soup.find('div', class_=\"D(ib) Mend(20px)\").text\n",
    "    # print(close_price.split('+')[0])\n",
    "    close_price = summary[0].contents[0]\n",
    "    close_price_list.append(close_price)\n",
    "    volume = summary[4].contents[0]\n",
    "    volume_list.append(volume)\n",
    "    market_cap = market_info[0].contents[0]\n",
    "    mkt_cap_list.append(market_cap)\n",
    "    earnings_Date = market_info[4].contents[0]\n",
    "    earnings_Date_list.append(earnings_Date)\n",
    "    eps = market_info[3].contents[0]\n",
    "    eps_list.append(eps)"
   ]
  },
  {
   "cell_type": "code",
   "execution_count": 6,
   "metadata": {},
   "outputs": [
    {
     "name": "stdout",
     "output_type": "stream",
     "text": [
      "[957.815, 510.526, 123.789, 934.245]\n"
     ]
    }
   ],
   "source": [
    "# remove B and convert Mkt_cap to Float\n",
    "new_cap_list = []\n",
    "for cap in mkt_cap_list:\n",
    "    new_cap = cap.replace('B', '')\n",
    "    new_cap = float(new_cap)\n",
    "    new_cap_list.append(new_cap)\n",
    "mkt_cap_list = new_cap_list\n",
    "print(mkt_cap_list)"
   ]
  },
  {
   "cell_type": "code",
   "execution_count": 7,
   "metadata": {},
   "outputs": [],
   "source": [
    "# Fix empty date values with a data\n",
    "new_d_list = []\n",
    "# print(earnings_Date_list)\n",
    "# print(\"/n ---------------- /n\")\n",
    "for d in earnings_Date_list:\n",
    "    new_d = d.replace('N/A', \"2019-02-07\")\n",
    "    new_d_list.append(new_d)\n",
    "earnings_Date_list = new_d_list\n",
    "# print(new_d_list)"
   ]
  },
  {
   "cell_type": "code",
   "execution_count": 8,
   "metadata": {},
   "outputs": [
    {
     "name": "stdout",
     "output_type": "stream",
     "text": [
      "[28870908.0, 9526236.0, 12389886.0, 19014761.0]\n"
     ]
    }
   ],
   "source": [
    "# remove comma from Volume values\n",
    "new_vol_list = []\n",
    "for vol in volume_list:\n",
    "    new_vol = vol.replace(',', '')\n",
    "    new_vol = float(new_vol)\n",
    "    new_vol_list.append(new_vol)\n",
    "volume_list = new_vol_list\n",
    "print(volume_list)"
   ]
  },
  {
   "cell_type": "code",
   "execution_count": 9,
   "metadata": {},
   "outputs": [
    {
     "data": {
      "text/plain": [
       "list"
      ]
     },
     "execution_count": 9,
     "metadata": {},
     "output_type": "execute_result"
    }
   ],
   "source": [
    "type(earnings_Date_list)"
   ]
  },
  {
   "cell_type": "code",
   "execution_count": 10,
   "metadata": {},
   "outputs": [],
   "source": [
    "# create and initialize list \n",
    "company_name_list = []\n",
    "company_desc_list = []\n",
    "company_tel_list = []\n",
    "key_execs_n_list = []\n",
    "key_execs_t_list = []\n",
    "key_execs_s_list = []\n",
    "url_list = []\n",
    "company_addr_list = []"
   ]
  },
  {
   "cell_type": "code",
   "execution_count": 11,
   "metadata": {},
   "outputs": [],
   "source": [
    "for ticker in tickers:\n",
    "    # Visit Yahoo finance profile page\n",
    "    url2 = base_url + ticker + '/profile?p=' + ticker\n",
    "#     print(url2)\n",
    "    browser.visit(url2)\n",
    "    # Scrape Financial Data into Soup\n",
    "    html = browser.html\n",
    "    soup = bs(html, \"html.parser\")\n",
    "   \n",
    "    profile1 = soup.find('p', class_=\"D(ib) W(47.727%) Pend(40px)\")\n",
    "    company_addr = profile1.contents[1] + profile1.contents[5]\n",
    "    company_addr_list.append(company_addr)\n",
    "#     print(company_addr)\n",
    "    #type(data)\n",
    "    company_name = soup.find(\"h3\", class_=\"Fz(m) Mb(10px)\").text\n",
    "    company_name_list.append(company_name)\n",
    "    company_desc = soup.find('p', class_=\"Mt(15px) Lh(1.6)\").text\n",
    "    company_desc_list.append(company_desc)\n",
    "#     print(company_desc)\n",
    "    key_execs_data = soup.find('table', class_='W(100%)').find('tbody').find_all('span')\n",
    "    key_execs_name = key_execs_data[0].contents[1]\n",
    "    key_execs_title = key_execs_data[1].contents[1]\n",
    "    key_execs_salary = key_execs_data[2].contents[1]\n",
    "    key_execs_n_list.append(key_execs_name)\n",
    "    key_execs_t_list.append(key_execs_title)\n",
    "    key_execs_s_list.append(key_execs_salary)\n",
    "    profile = soup.find('p', class_=\"D(ib) W(47.727%) Pend(40px)\").find_all('a')\n",
    "    company_tel = profile[0].text\n",
    "    url = profile[1].text\n",
    "    company_tel_list.append(company_tel)\n",
    "    url_list.append(url)\n",
    "#     print(url_list)"
   ]
  },
  {
   "cell_type": "code",
   "execution_count": 12,
   "metadata": {},
   "outputs": [
    {
     "name": "stdout",
     "output_type": "stream",
     "text": [
      "[4089961010.0, 6505434800.0, 9144991900.0, 4258828080.0]\n"
     ]
    }
   ],
   "source": [
    "# convert telephone number to INT\n",
    "new_tel_list = []\n",
    "for tel in company_tel_list:\n",
    "    new_tel = tel.replace('-', '')\n",
    "    new_tel = float(new_tel)\n",
    "    new_tel_list.append(new_tel)\n",
    "company_tel_list = new_tel_list\n",
    "print(company_tel_list)"
   ]
  },
  {
   "cell_type": "code",
   "execution_count": 13,
   "metadata": {},
   "outputs": [
    {
     "name": "stdout",
     "output_type": "stream",
     "text": [
      "[15.68, 8.85, 6.75, 9.04]\n"
     ]
    }
   ],
   "source": [
    "# remove M and convert Key_Execs_Salary to Float\n",
    "new_s_list = []\n",
    "for s in key_execs_s_list:\n",
    "    new_s = s.replace('M', '')\n",
    "    new_s = float(new_s)\n",
    "    new_s_list.append(new_s)\n",
    "key_execs_s_list = new_s_list\n",
    "print(key_execs_s_list)"
   ]
  },
  {
   "cell_type": "code",
   "execution_count": 14,
   "metadata": {},
   "outputs": [],
   "source": [
    "# create and initialize list \n",
    "total_ESG_score_list = []\n",
    "avg_perf_env_list = []\n",
    "social_score_list = []\n",
    "governance_score_list = []"
   ]
  },
  {
   "cell_type": "code",
   "execution_count": 15,
   "metadata": {},
   "outputs": [],
   "source": [
    "for ticker in tickers:\n",
    "    # Visit Yahoo finance sustanability page\n",
    "    url3 = base_url + ticker + '/sustainability?p=' + ticker\n",
    "#     print(url3)\n",
    "    browser.visit(url3)\n",
    "    # Scrape Financial Data into Soup\n",
    "    html = browser.html\n",
    "    soup = bs(html, \"html.parser\")\n",
    "    sustain = soup.find_all('div', class_=\"D(ib) Fz(23px) smartphone_Fz(22px) Fw(600)\")\n",
    "#     print(sustain[count].contents[0])\n",
    "#     count += 1\n",
    "    total_ESG_score = soup.find('div', class_=\"Fz(36px) Fw(600) D(ib) Mend(5px)\").text\n",
    "    total_ESG_score_list.append(total_ESG_score)\n",
    "    avg_perf_env = sustain[0].contents[0]\n",
    "    avg_perf_env_list.append(avg_perf_env)\n",
    "    social_score = sustain[1].contents[0]\n",
    "    social_score_list.append(social_score)\n",
    "    governance_score = sustain[2].contents[0]\n",
    "    governance_score_list.append(governance_score)"
   ]
  },
  {
   "cell_type": "code",
   "execution_count": 16,
   "metadata": {},
   "outputs": [],
   "source": [
    "# Create Summary dataframe\n",
    "summary_df = pd.DataFrame({'Ticker':tickers, 'Close_Price':close_price_list, 'Volume':volume_list,'Mkt_Cap':mkt_cap_list, 'EPS':eps_list, 'Earnings_Date':earnings_Date_list})"
   ]
  },
  {
   "cell_type": "code",
   "execution_count": 17,
   "metadata": {
    "scrolled": true
   },
   "outputs": [
    {
     "data": {
      "text/html": [
       "<div>\n",
       "<style scoped>\n",
       "    .dataframe tbody tr th:only-of-type {\n",
       "        vertical-align: middle;\n",
       "    }\n",
       "\n",
       "    .dataframe tbody tr th {\n",
       "        vertical-align: top;\n",
       "    }\n",
       "\n",
       "    .dataframe thead th {\n",
       "        text-align: right;\n",
       "    }\n",
       "</style>\n",
       "<table border=\"1\" class=\"dataframe\">\n",
       "  <thead>\n",
       "    <tr style=\"text-align: right;\">\n",
       "      <th></th>\n",
       "      <th>Ticker</th>\n",
       "      <th>Close_Price</th>\n",
       "      <th>Volume</th>\n",
       "      <th>Mkt_Cap</th>\n",
       "      <th>EPS</th>\n",
       "      <th>Earnings_Date</th>\n",
       "    </tr>\n",
       "  </thead>\n",
       "  <tbody>\n",
       "    <tr>\n",
       "      <th>0</th>\n",
       "      <td>AAPL</td>\n",
       "      <td>199.25</td>\n",
       "      <td>28870908.0</td>\n",
       "      <td>957.815</td>\n",
       "      <td>12.12</td>\n",
       "      <td>2019-02-08</td>\n",
       "    </tr>\n",
       "    <tr>\n",
       "      <th>1</th>\n",
       "      <td>FB</td>\n",
       "      <td>178.87</td>\n",
       "      <td>9526236.0</td>\n",
       "      <td>510.526</td>\n",
       "      <td>7.57</td>\n",
       "      <td>2019-02-07</td>\n",
       "    </tr>\n",
       "    <tr>\n",
       "      <th>2</th>\n",
       "      <td>IBM</td>\n",
       "      <td>145.14</td>\n",
       "      <td>12389886.0</td>\n",
       "      <td>123.789</td>\n",
       "      <td>9.52</td>\n",
       "      <td>2019-02-07</td>\n",
       "    </tr>\n",
       "    <tr>\n",
       "      <th>3</th>\n",
       "      <td>MSFT</td>\n",
       "      <td>120.77</td>\n",
       "      <td>19014761.0</td>\n",
       "      <td>934.245</td>\n",
       "      <td>4.31</td>\n",
       "      <td>2019-05-15</td>\n",
       "    </tr>\n",
       "  </tbody>\n",
       "</table>\n",
       "</div>"
      ],
      "text/plain": [
       "  Ticker Close_Price      Volume  Mkt_Cap    EPS Earnings_Date\n",
       "0   AAPL      199.25  28870908.0  957.815  12.12    2019-02-08\n",
       "1     FB      178.87   9526236.0  510.526   7.57    2019-02-07\n",
       "2    IBM      145.14  12389886.0  123.789   9.52    2019-02-07\n",
       "3   MSFT      120.77  19014761.0  934.245   4.31    2019-05-15"
      ]
     },
     "execution_count": 17,
     "metadata": {},
     "output_type": "execute_result"
    }
   ],
   "source": [
    "summary_df"
   ]
  },
  {
   "cell_type": "code",
   "execution_count": 18,
   "metadata": {},
   "outputs": [],
   "source": [
    "# Create Summary dataframe\n",
    "profile_df = pd.DataFrame({'Ticker':tickers, 'Company_Name':company_name_list, 'Description':company_desc_list, 'Telephone':company_tel_list, 'Address':company_addr_list,\n",
    "                           'Key_Execs_Name':key_execs_n_list, 'Key_Execs_Title':key_execs_t_list,'Key_Execs_Salary':key_execs_s_list, 'Web_URL':url_list})"
   ]
  },
  {
   "cell_type": "code",
   "execution_count": 19,
   "metadata": {},
   "outputs": [
    {
     "data": {
      "text/html": [
       "<div>\n",
       "<style scoped>\n",
       "    .dataframe tbody tr th:only-of-type {\n",
       "        vertical-align: middle;\n",
       "    }\n",
       "\n",
       "    .dataframe tbody tr th {\n",
       "        vertical-align: top;\n",
       "    }\n",
       "\n",
       "    .dataframe thead th {\n",
       "        text-align: right;\n",
       "    }\n",
       "</style>\n",
       "<table border=\"1\" class=\"dataframe\">\n",
       "  <thead>\n",
       "    <tr style=\"text-align: right;\">\n",
       "      <th></th>\n",
       "      <th>Ticker</th>\n",
       "      <th>Company_Name</th>\n",
       "      <th>Description</th>\n",
       "      <th>Telephone</th>\n",
       "      <th>Address</th>\n",
       "      <th>Key_Execs_Name</th>\n",
       "      <th>Key_Execs_Title</th>\n",
       "      <th>Key_Execs_Salary</th>\n",
       "      <th>Web_URL</th>\n",
       "    </tr>\n",
       "  </thead>\n",
       "  <tbody>\n",
       "    <tr>\n",
       "      <th>0</th>\n",
       "      <td>AAPL</td>\n",
       "      <td>Apple Inc.</td>\n",
       "      <td>Apple Inc. designs, manufactures, and markets ...</td>\n",
       "      <td>4.089961e+09</td>\n",
       "      <td>One Apple Park WayCupertino, CA 95014</td>\n",
       "      <td>Mr. Timothy D. Cook</td>\n",
       "      <td>CEO &amp; Director</td>\n",
       "      <td>15.68</td>\n",
       "      <td>http://www.apple.com</td>\n",
       "    </tr>\n",
       "    <tr>\n",
       "      <th>1</th>\n",
       "      <td>FB</td>\n",
       "      <td>Facebook, Inc.</td>\n",
       "      <td>Facebook, Inc. provides various products to co...</td>\n",
       "      <td>6.505435e+09</td>\n",
       "      <td>1601 Willow RoadMenlo Park, CA 94025</td>\n",
       "      <td>Mr. Mark Elliot Zuckerberg</td>\n",
       "      <td>Founder, Chairman &amp; CEO</td>\n",
       "      <td>8.85</td>\n",
       "      <td>http://www.facebook.com</td>\n",
       "    </tr>\n",
       "    <tr>\n",
       "      <th>2</th>\n",
       "      <td>IBM</td>\n",
       "      <td>International Business Machines Corporation</td>\n",
       "      <td>International Business Machines Corporation op...</td>\n",
       "      <td>9.144992e+09</td>\n",
       "      <td>1 New Orchard RoadArmonk, NY 10504</td>\n",
       "      <td>Ms. Virginia M. Rometty</td>\n",
       "      <td>Chairman, Pres &amp; CEO</td>\n",
       "      <td>6.75</td>\n",
       "      <td>http://www.ibm.com</td>\n",
       "    </tr>\n",
       "    <tr>\n",
       "      <th>3</th>\n",
       "      <td>MSFT</td>\n",
       "      <td>Microsoft Corporation</td>\n",
       "      <td>Microsoft Corporation develops, licenses, and ...</td>\n",
       "      <td>4.258828e+09</td>\n",
       "      <td>One Microsoft WayRedmond, WA 98052</td>\n",
       "      <td>Mr. Satya  Nadella</td>\n",
       "      <td>CEO &amp; Director</td>\n",
       "      <td>9.04</td>\n",
       "      <td>http://www.microsoft.com</td>\n",
       "    </tr>\n",
       "  </tbody>\n",
       "</table>\n",
       "</div>"
      ],
      "text/plain": [
       "  Ticker                                 Company_Name  \\\n",
       "0   AAPL                                   Apple Inc.   \n",
       "1     FB                               Facebook, Inc.   \n",
       "2    IBM  International Business Machines Corporation   \n",
       "3   MSFT                        Microsoft Corporation   \n",
       "\n",
       "                                         Description     Telephone  \\\n",
       "0  Apple Inc. designs, manufactures, and markets ...  4.089961e+09   \n",
       "1  Facebook, Inc. provides various products to co...  6.505435e+09   \n",
       "2  International Business Machines Corporation op...  9.144992e+09   \n",
       "3  Microsoft Corporation develops, licenses, and ...  4.258828e+09   \n",
       "\n",
       "                                 Address              Key_Execs_Name  \\\n",
       "0  One Apple Park WayCupertino, CA 95014         Mr. Timothy D. Cook   \n",
       "1   1601 Willow RoadMenlo Park, CA 94025  Mr. Mark Elliot Zuckerberg   \n",
       "2     1 New Orchard RoadArmonk, NY 10504     Ms. Virginia M. Rometty   \n",
       "3     One Microsoft WayRedmond, WA 98052          Mr. Satya  Nadella   \n",
       "\n",
       "           Key_Execs_Title  Key_Execs_Salary                   Web_URL  \n",
       "0           CEO & Director             15.68      http://www.apple.com  \n",
       "1  Founder, Chairman & CEO              8.85   http://www.facebook.com  \n",
       "2     Chairman, Pres & CEO              6.75        http://www.ibm.com  \n",
       "3           CEO & Director              9.04  http://www.microsoft.com  "
      ]
     },
     "execution_count": 19,
     "metadata": {},
     "output_type": "execute_result"
    }
   ],
   "source": [
    "profile_df"
   ]
  },
  {
   "cell_type": "code",
   "execution_count": 20,
   "metadata": {},
   "outputs": [],
   "source": [
    "# Create sustainability dataframe\n",
    "sustainability_df = pd.DataFrame({'Ticker':tickers, 'Total_ESG_Score':total_ESG_score_list, 'AVG_Perf_Env':avg_perf_env_list,'Social_Score':social_score_list, 'Governance_Score':governance_score_list})"
   ]
  },
  {
   "cell_type": "code",
   "execution_count": 21,
   "metadata": {},
   "outputs": [
    {
     "data": {
      "text/html": [
       "<div>\n",
       "<style scoped>\n",
       "    .dataframe tbody tr th:only-of-type {\n",
       "        vertical-align: middle;\n",
       "    }\n",
       "\n",
       "    .dataframe tbody tr th {\n",
       "        vertical-align: top;\n",
       "    }\n",
       "\n",
       "    .dataframe thead th {\n",
       "        text-align: right;\n",
       "    }\n",
       "</style>\n",
       "<table border=\"1\" class=\"dataframe\">\n",
       "  <thead>\n",
       "    <tr style=\"text-align: right;\">\n",
       "      <th></th>\n",
       "      <th>Ticker</th>\n",
       "      <th>Total_ESG_Score</th>\n",
       "      <th>AVG_Perf_Env</th>\n",
       "      <th>Social_Score</th>\n",
       "      <th>Governance_Score</th>\n",
       "    </tr>\n",
       "  </thead>\n",
       "  <tbody>\n",
       "    <tr>\n",
       "      <th>0</th>\n",
       "      <td>AAPL</td>\n",
       "      <td>70</td>\n",
       "      <td>89</td>\n",
       "      <td>57</td>\n",
       "      <td>60</td>\n",
       "    </tr>\n",
       "    <tr>\n",
       "      <th>1</th>\n",
       "      <td>FB</td>\n",
       "      <td>59</td>\n",
       "      <td>62</td>\n",
       "      <td>67</td>\n",
       "      <td>42</td>\n",
       "    </tr>\n",
       "    <tr>\n",
       "      <th>2</th>\n",
       "      <td>IBM</td>\n",
       "      <td>74</td>\n",
       "      <td>87</td>\n",
       "      <td>74</td>\n",
       "      <td>60</td>\n",
       "    </tr>\n",
       "    <tr>\n",
       "      <th>3</th>\n",
       "      <td>MSFT</td>\n",
       "      <td>74</td>\n",
       "      <td>82</td>\n",
       "      <td>71</td>\n",
       "      <td>70</td>\n",
       "    </tr>\n",
       "  </tbody>\n",
       "</table>\n",
       "</div>"
      ],
      "text/plain": [
       "  Ticker Total_ESG_Score AVG_Perf_Env Social_Score Governance_Score\n",
       "0   AAPL              70           89           57               60\n",
       "1     FB              59           62           67               42\n",
       "2    IBM              74           87           74               60\n",
       "3   MSFT              74           82           71               70"
      ]
     },
     "execution_count": 21,
     "metadata": {},
     "output_type": "execute_result"
    }
   ],
   "source": [
    "sustainability_df"
   ]
  },
  {
   "cell_type": "code",
   "execution_count": 22,
   "metadata": {},
   "outputs": [],
   "source": [
    "# Database \n",
    "import pymysql\n",
    "from sqlalchemy import create_engine\n",
    "pymysql.install_as_MySQLdb()\n",
    "rds_connection_string = \"root:root123@127.0.0.1:3306/twitter_stocks_db\"\n",
    "engine = create_engine(f'mysql://{rds_connection_string}')"
   ]
  },
  {
   "cell_type": "code",
   "execution_count": 24,
   "metadata": {},
   "outputs": [
    {
     "data": {
      "text/plain": [
       "[]"
      ]
     },
     "execution_count": 24,
     "metadata": {},
     "output_type": "execute_result"
    }
   ],
   "source": [
    "engine.table_names()"
   ]
  },
  {
   "cell_type": "code",
   "execution_count": 25,
   "metadata": {},
   "outputs": [
    {
     "data": {
      "text/html": [
       "<div>\n",
       "<style scoped>\n",
       "    .dataframe tbody tr th:only-of-type {\n",
       "        vertical-align: middle;\n",
       "    }\n",
       "\n",
       "    .dataframe tbody tr th {\n",
       "        vertical-align: top;\n",
       "    }\n",
       "\n",
       "    .dataframe thead th {\n",
       "        text-align: right;\n",
       "    }\n",
       "</style>\n",
       "<table border=\"1\" class=\"dataframe\">\n",
       "  <thead>\n",
       "    <tr style=\"text-align: right;\">\n",
       "      <th></th>\n",
       "      <th>Ticker</th>\n",
       "      <th>Close_Price</th>\n",
       "      <th>Volume</th>\n",
       "      <th>Mkt_Cap</th>\n",
       "      <th>EPS</th>\n",
       "      <th>Earnings_Date</th>\n",
       "    </tr>\n",
       "  </thead>\n",
       "  <tbody>\n",
       "    <tr>\n",
       "      <th>0</th>\n",
       "      <td>AAPL</td>\n",
       "      <td>199.25</td>\n",
       "      <td>28870908.0</td>\n",
       "      <td>957.815</td>\n",
       "      <td>12.12</td>\n",
       "      <td>2019-02-08</td>\n",
       "    </tr>\n",
       "    <tr>\n",
       "      <th>1</th>\n",
       "      <td>FB</td>\n",
       "      <td>178.87</td>\n",
       "      <td>9526236.0</td>\n",
       "      <td>510.526</td>\n",
       "      <td>7.57</td>\n",
       "      <td>2019-02-07</td>\n",
       "    </tr>\n",
       "    <tr>\n",
       "      <th>2</th>\n",
       "      <td>IBM</td>\n",
       "      <td>145.14</td>\n",
       "      <td>12389886.0</td>\n",
       "      <td>123.789</td>\n",
       "      <td>9.52</td>\n",
       "      <td>2019-02-07</td>\n",
       "    </tr>\n",
       "    <tr>\n",
       "      <th>3</th>\n",
       "      <td>MSFT</td>\n",
       "      <td>120.77</td>\n",
       "      <td>19014761.0</td>\n",
       "      <td>934.245</td>\n",
       "      <td>4.31</td>\n",
       "      <td>2019-05-15</td>\n",
       "    </tr>\n",
       "  </tbody>\n",
       "</table>\n",
       "</div>"
      ],
      "text/plain": [
       "  Ticker Close_Price      Volume  Mkt_Cap    EPS Earnings_Date\n",
       "0   AAPL      199.25  28870908.0  957.815  12.12    2019-02-08\n",
       "1     FB      178.87   9526236.0  510.526   7.57    2019-02-07\n",
       "2    IBM      145.14  12389886.0  123.789   9.52    2019-02-07\n",
       "3   MSFT      120.77  19014761.0  934.245   4.31    2019-05-15"
      ]
     },
     "execution_count": 25,
     "metadata": {},
     "output_type": "execute_result"
    }
   ],
   "source": [
    "# converted DataFrame into database\n",
    "summary_df.to_sql(name='summary', con=engine, if_exists='replace', index=False)\n",
    "pd.read_sql_query('select * from summary', con=engine).head()"
   ]
  },
  {
   "cell_type": "code",
   "execution_count": 26,
   "metadata": {},
   "outputs": [
    {
     "data": {
      "text/html": [
       "<div>\n",
       "<style scoped>\n",
       "    .dataframe tbody tr th:only-of-type {\n",
       "        vertical-align: middle;\n",
       "    }\n",
       "\n",
       "    .dataframe tbody tr th {\n",
       "        vertical-align: top;\n",
       "    }\n",
       "\n",
       "    .dataframe thead th {\n",
       "        text-align: right;\n",
       "    }\n",
       "</style>\n",
       "<table border=\"1\" class=\"dataframe\">\n",
       "  <thead>\n",
       "    <tr style=\"text-align: right;\">\n",
       "      <th></th>\n",
       "      <th>Ticker</th>\n",
       "      <th>Company_Name</th>\n",
       "      <th>Description</th>\n",
       "      <th>Telephone</th>\n",
       "      <th>Address</th>\n",
       "      <th>Key_Execs_Name</th>\n",
       "      <th>Key_Execs_Title</th>\n",
       "      <th>Key_Execs_Salary</th>\n",
       "      <th>Web_URL</th>\n",
       "    </tr>\n",
       "  </thead>\n",
       "  <tbody>\n",
       "    <tr>\n",
       "      <th>0</th>\n",
       "      <td>AAPL</td>\n",
       "      <td>Apple Inc.</td>\n",
       "      <td>Apple Inc. designs, manufactures, and markets ...</td>\n",
       "      <td>4.089961e+09</td>\n",
       "      <td>One Apple Park WayCupertino, CA 95014</td>\n",
       "      <td>Mr. Timothy D. Cook</td>\n",
       "      <td>CEO &amp; Director</td>\n",
       "      <td>15.68</td>\n",
       "      <td>http://www.apple.com</td>\n",
       "    </tr>\n",
       "    <tr>\n",
       "      <th>1</th>\n",
       "      <td>FB</td>\n",
       "      <td>Facebook, Inc.</td>\n",
       "      <td>Facebook, Inc. provides various products to co...</td>\n",
       "      <td>6.505435e+09</td>\n",
       "      <td>1601 Willow RoadMenlo Park, CA 94025</td>\n",
       "      <td>Mr. Mark Elliot Zuckerberg</td>\n",
       "      <td>Founder, Chairman &amp; CEO</td>\n",
       "      <td>8.85</td>\n",
       "      <td>http://www.facebook.com</td>\n",
       "    </tr>\n",
       "    <tr>\n",
       "      <th>2</th>\n",
       "      <td>IBM</td>\n",
       "      <td>International Business Machines Corporation</td>\n",
       "      <td>International Business Machines Corporation op...</td>\n",
       "      <td>9.144992e+09</td>\n",
       "      <td>1 New Orchard RoadArmonk, NY 10504</td>\n",
       "      <td>Ms. Virginia M. Rometty</td>\n",
       "      <td>Chairman, Pres &amp; CEO</td>\n",
       "      <td>6.75</td>\n",
       "      <td>http://www.ibm.com</td>\n",
       "    </tr>\n",
       "    <tr>\n",
       "      <th>3</th>\n",
       "      <td>MSFT</td>\n",
       "      <td>Microsoft Corporation</td>\n",
       "      <td>Microsoft Corporation develops, licenses, and ...</td>\n",
       "      <td>4.258828e+09</td>\n",
       "      <td>One Microsoft WayRedmond, WA 98052</td>\n",
       "      <td>Mr. Satya  Nadella</td>\n",
       "      <td>CEO &amp; Director</td>\n",
       "      <td>9.04</td>\n",
       "      <td>http://www.microsoft.com</td>\n",
       "    </tr>\n",
       "  </tbody>\n",
       "</table>\n",
       "</div>"
      ],
      "text/plain": [
       "  Ticker                                 Company_Name  \\\n",
       "0   AAPL                                   Apple Inc.   \n",
       "1     FB                               Facebook, Inc.   \n",
       "2    IBM  International Business Machines Corporation   \n",
       "3   MSFT                        Microsoft Corporation   \n",
       "\n",
       "                                         Description     Telephone  \\\n",
       "0  Apple Inc. designs, manufactures, and markets ...  4.089961e+09   \n",
       "1  Facebook, Inc. provides various products to co...  6.505435e+09   \n",
       "2  International Business Machines Corporation op...  9.144992e+09   \n",
       "3  Microsoft Corporation develops, licenses, and ...  4.258828e+09   \n",
       "\n",
       "                                 Address              Key_Execs_Name  \\\n",
       "0  One Apple Park WayCupertino, CA 95014         Mr. Timothy D. Cook   \n",
       "1   1601 Willow RoadMenlo Park, CA 94025  Mr. Mark Elliot Zuckerberg   \n",
       "2     1 New Orchard RoadArmonk, NY 10504     Ms. Virginia M. Rometty   \n",
       "3     One Microsoft WayRedmond, WA 98052          Mr. Satya  Nadella   \n",
       "\n",
       "           Key_Execs_Title  Key_Execs_Salary                   Web_URL  \n",
       "0           CEO & Director             15.68      http://www.apple.com  \n",
       "1  Founder, Chairman & CEO              8.85   http://www.facebook.com  \n",
       "2     Chairman, Pres & CEO              6.75        http://www.ibm.com  \n",
       "3           CEO & Director              9.04  http://www.microsoft.com  "
      ]
     },
     "execution_count": 26,
     "metadata": {},
     "output_type": "execute_result"
    }
   ],
   "source": [
    "# converted DataFrame into database\n",
    "# pd.to_sql('TRUNCATE TABLE profile', con=engine)\n",
    "profile_df.to_sql(name='profile', con=engine, if_exists='replace', index=False)\n",
    "\n",
    "pd.read_sql_query('select * from profile', con=engine).head()"
   ]
  },
  {
   "cell_type": "code",
   "execution_count": 27,
   "metadata": {},
   "outputs": [
    {
     "data": {
      "text/html": [
       "<div>\n",
       "<style scoped>\n",
       "    .dataframe tbody tr th:only-of-type {\n",
       "        vertical-align: middle;\n",
       "    }\n",
       "\n",
       "    .dataframe tbody tr th {\n",
       "        vertical-align: top;\n",
       "    }\n",
       "\n",
       "    .dataframe thead th {\n",
       "        text-align: right;\n",
       "    }\n",
       "</style>\n",
       "<table border=\"1\" class=\"dataframe\">\n",
       "  <thead>\n",
       "    <tr style=\"text-align: right;\">\n",
       "      <th></th>\n",
       "      <th>Ticker</th>\n",
       "      <th>Total_ESG_Score</th>\n",
       "      <th>AVG_Perf_Env</th>\n",
       "      <th>Social_Score</th>\n",
       "      <th>Governance_Score</th>\n",
       "    </tr>\n",
       "  </thead>\n",
       "  <tbody>\n",
       "    <tr>\n",
       "      <th>0</th>\n",
       "      <td>AAPL</td>\n",
       "      <td>70</td>\n",
       "      <td>89</td>\n",
       "      <td>57</td>\n",
       "      <td>60</td>\n",
       "    </tr>\n",
       "    <tr>\n",
       "      <th>1</th>\n",
       "      <td>FB</td>\n",
       "      <td>59</td>\n",
       "      <td>62</td>\n",
       "      <td>67</td>\n",
       "      <td>42</td>\n",
       "    </tr>\n",
       "    <tr>\n",
       "      <th>2</th>\n",
       "      <td>IBM</td>\n",
       "      <td>74</td>\n",
       "      <td>87</td>\n",
       "      <td>74</td>\n",
       "      <td>60</td>\n",
       "    </tr>\n",
       "    <tr>\n",
       "      <th>3</th>\n",
       "      <td>MSFT</td>\n",
       "      <td>74</td>\n",
       "      <td>82</td>\n",
       "      <td>71</td>\n",
       "      <td>70</td>\n",
       "    </tr>\n",
       "  </tbody>\n",
       "</table>\n",
       "</div>"
      ],
      "text/plain": [
       "  Ticker Total_ESG_Score AVG_Perf_Env Social_Score Governance_Score\n",
       "0   AAPL              70           89           57               60\n",
       "1     FB              59           62           67               42\n",
       "2    IBM              74           87           74               60\n",
       "3   MSFT              74           82           71               70"
      ]
     },
     "execution_count": 27,
     "metadata": {},
     "output_type": "execute_result"
    }
   ],
   "source": [
    "# converted DataFrame into database\n",
    "sustainability_df.to_sql(name='sustainability', con=engine, if_exists='replace', index=False)\n",
    "pd.read_sql_query('select * from sustainability', con=engine).head()"
   ]
  },
  {
   "cell_type": "code",
   "execution_count": null,
   "metadata": {},
   "outputs": [],
   "source": []
  }
 ],
 "metadata": {
  "kernelspec": {
   "display_name": "Python 3",
   "language": "python",
   "name": "python3"
  },
  "language_info": {
   "codemirror_mode": {
    "name": "ipython",
    "version": 3
   },
   "file_extension": ".py",
   "mimetype": "text/x-python",
   "name": "python",
   "nbconvert_exporter": "python",
   "pygments_lexer": "ipython3",
   "version": "3.7.1"
  }
 },
 "nbformat": 4,
 "nbformat_minor": 2
}
