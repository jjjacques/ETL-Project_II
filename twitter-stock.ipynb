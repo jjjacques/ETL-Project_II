{
 "cells": [
  {
   "cell_type": "code",
   "execution_count": 288,
   "metadata": {},
   "outputs": [],
   "source": [
    "## import modules\n",
    "from splinter import Browser\n",
    "import requests\n",
    "from bs4 import BeautifulSoup as bs\n",
    "import pandas as pd"
   ]
  },
  {
   "cell_type": "code",
   "execution_count": 289,
   "metadata": {},
   "outputs": [],
   "source": [
    "executable_path = {\"executable_path\": \"chromedriver\"}\n",
    "browser = Browser(\"chrome\", **executable_path, headless=False)"
   ]
  },
  {
   "cell_type": "code",
   "execution_count": 290,
   "metadata": {},
   "outputs": [],
   "source": [
    "# Build query Url and List of Stocks ticker\n",
    "base_url = \"https://finance.yahoo.com/quote/\"\n",
    "tickers = [\"AAPL\", \"FB\", \"IBM\", \"MSFT\"]"
   ]
  },
  {
   "cell_type": "code",
   "execution_count": 291,
   "metadata": {},
   "outputs": [],
   "source": [
    "# create list\n",
    "close_price_list = []\n",
    "volume_list = []\n",
    "mkt_cap_list = []\n",
    "earnings_Date_list = []\n",
    "eps_list = []"
   ]
  },
  {
   "cell_type": "code",
   "execution_count": 292,
   "metadata": {},
   "outputs": [],
   "source": [
    "for ticker in tickers:\n",
    "    # Visit Yahoo finance summary page\n",
    "    url1 = base_url + ticker + '?p=' + ticker + '&.tsrc=fin-srch'\n",
    "#     print(url1)\n",
    "    browser.visit(url1)\n",
    "    # Scrape Financial Data into Soup\n",
    "    html = browser.html\n",
    "    soup = bs(html, \"html.parser\")\n",
    "    summary = soup.find('table', class_=\"W(100%)\").find_all(class_=\"Trsdu(0.3s) \")\n",
    "    market_info = soup.find('table', class_=\"W(100%) M(0) Bdcl(c)\").find_all(class_=\"Trsdu(0.3s) \")\n",
    "    #print(summary)\n",
    "    #type(summary)\n",
    "    # close_price = soup.find('div', class_=\"D(ib) Mend(20px)\").text\n",
    "    # print(close_price.split('+')[0])\n",
    "    close_price = summary[0].contents[0]\n",
    "    close_price_list.append(close_price)\n",
    "    volume = summary[4].contents[0]\n",
    "    volume_list.append(volume)\n",
    "    market_cap = market_info[0].contents[0]\n",
    "    mkt_cap_list.append(market_cap)\n",
    "    earnings_Date = market_info[4].contents[0]\n",
    "    earnings_Date_list.append(earnings_Date)\n",
    "    eps = market_info[3].contents[0]\n",
    "    eps_list.append(eps)"
   ]
  },
  {
   "cell_type": "code",
   "execution_count": 293,
   "metadata": {},
   "outputs": [],
   "source": [
    "# print(market_info)"
   ]
  },
  {
   "cell_type": "code",
   "execution_count": 294,
   "metadata": {},
   "outputs": [],
   "source": [
    "# print(f\"close price: {close_price_list} /n\")\n",
    "# print( \"----------------- /n\")\n",
    "# print( f\"Volumes: {volume_list} /n\")\n",
    "# print( \"----------------- /n\")\n",
    "# print( f\"market caps: {mkt_cap_list} /n\")\n",
    "# print( \"----------------- /n\")\n",
    "# print( f\"earnings {earnings_Date_list} /n\")\n",
    "# print( \"----------------- /n\")\n",
    "# print(f\" EPS: {eps_list} /n\")"
   ]
  },
  {
   "cell_type": "code",
   "execution_count": 334,
   "metadata": {},
   "outputs": [],
   "source": [
    "# create list\n",
    "company_name_list = []\n",
    "company_desc_list = []\n",
    "company_tel_list = []\n",
    "key_execs_n_list = []\n",
    "key_execs_t_list = []\n",
    "key_execs_s_list = []\n",
    "url_list = []\n",
    "company_addr_list = []"
   ]
  },
  {
   "cell_type": "code",
   "execution_count": 335,
   "metadata": {},
   "outputs": [],
   "source": [
    "for ticker in tickers:\n",
    "    # Visit Yahoo finance profile page\n",
    "    url2 = base_url + ticker + '/profile?p=' + ticker\n",
    "#     print(url2)\n",
    "    browser.visit(url2)\n",
    "    # Scrape Financial Data into Soup\n",
    "    html = browser.html\n",
    "    soup = bs(html, \"html.parser\")\n",
    "   \n",
    "    profile1 = soup.find('p', class_=\"D(ib) W(47.727%) Pend(40px)\")\n",
    "    company_addr = profile1.contents[1] + profile1.contents[5]\n",
    "    company_addr_list.append(company_addr)\n",
    "#     print(company_addr)\n",
    "    #type(data)\n",
    "    company_name = soup.find(\"h3\", class_=\"Fz(m) Mb(10px)\").text\n",
    "    company_name_list.append(company_name)\n",
    "    company_desc = soup.find('p', class_=\"Mt(15px) Lh(1.6)\").text\n",
    "    company_desc_list.append(company_desc)\n",
    "#     print(company_desc)\n",
    "    key_execs_data = soup.find('table', class_='W(100%)').find('tbody').find_all('span')\n",
    "    key_execs_name = key_execs_data[0].contents[1]\n",
    "    key_execs_title = key_execs_data[1].contents[1]\n",
    "    key_execs_salary = key_execs_data[2].contents[1]\n",
    "    key_execs_n_list.append(key_execs_name)\n",
    "    key_execs_t_list.append(key_execs_title)\n",
    "    key_execs_s_list.append(key_execs_salary)\n",
    "    profile = soup.find('p', class_=\"D(ib) W(47.727%) Pend(40px)\").find_all('a')\n",
    "    company_tel = profile[0].text\n",
    "    url = profile[1].text\n",
    "    company_tel_list.append(company_tel)\n",
    "    url_list.append(url)\n",
    "#     print(url_list)"
   ]
  },
  {
   "cell_type": "code",
   "execution_count": 338,
   "metadata": {},
   "outputs": [
    {
     "name": "stdout",
     "output_type": "stream",
     "text": [
      "['Mr. Timothy D. Cook', 'Mr. Mark Elliot Zuckerberg', 'Ms. Virginia M. Rometty', 'Mr. Satya  Nadella']\n"
     ]
    }
   ],
   "source": [
    "# print(f\"company_addr: {company_addr_list} /n\")\n",
    "print(key_execs_n_list)"
   ]
  },
  {
   "cell_type": "code",
   "execution_count": 339,
   "metadata": {},
   "outputs": [],
   "source": [
    "total_ESG_score_list = []\n",
    "avg_perf_env_list = []\n",
    "social_score_list = []\n",
    "governance_score_list = []\n",
    "# sustain_list = []\n",
    "# sustain_data_list = []\n",
    "# count = 0"
   ]
  },
  {
   "cell_type": "code",
   "execution_count": 340,
   "metadata": {},
   "outputs": [],
   "source": [
    "for ticker in tickers:\n",
    "    # Visit Yahoo finance sustanability page\n",
    "    url3 = base_url + ticker + '/sustainability?p=' + ticker\n",
    "#     print(url3)\n",
    "    browser.visit(url3)\n",
    "    # Scrape Financial Data into Soup\n",
    "    html = browser.html\n",
    "    soup = bs(html, \"html.parser\")\n",
    "    sustain = soup.find_all('div', class_=\"D(ib) Fz(23px) smartphone_Fz(22px) Fw(600)\")\n",
    "#     print(sustain[count].contents[0])\n",
    "#     count += 1\n",
    "    total_ESG_score = soup.find('div', class_=\"Fz(36px) Fw(600) D(ib) Mend(5px)\").text\n",
    "    total_ESG_score_list.append(total_ESG_score)\n",
    "    avg_perf_env = sustain[0].contents[0]\n",
    "    avg_perf_env_list.append(avg_perf_env)\n",
    "    social_score = sustain[1].contents[0]\n",
    "    social_score_list.append(social_score)\n",
    "    governance_score = sustain[2].contents[0]\n",
    "    governance_score_list.append(governance_score)"
   ]
  },
  {
   "cell_type": "code",
   "execution_count": 341,
   "metadata": {},
   "outputs": [],
   "source": [
    "# print(f\"total_ESG_score : {total_ESG_score_list} /n\")\n",
    "# print( \"----------------- /n\")\n",
    "# print( f\"avg_perf_env: {avg_perf_env_list} /n\")\n",
    "# print( \"----------------- /n\")\n",
    "# print( f\"social_score: {social_score_list} /n\")\n",
    "# print( \"----------------- /n\")\n",
    "# print( f\"governance_score: {governance_score_list} /n\")"
   ]
  },
  {
   "cell_type": "code",
   "execution_count": 342,
   "metadata": {},
   "outputs": [],
   "source": [
    "# import ipdb; ipdb.set_trace()"
   ]
  },
  {
   "cell_type": "code",
   "execution_count": 343,
   "metadata": {},
   "outputs": [],
   "source": [
    "# Create Summary dataframe\n",
    "summary_df = pd.DataFrame({'Ticker':tickers, 'Close_Price':close_price_list, 'Volume':volume_list,'Mkt_Cap':mkt_cap_list, 'EPS':eps_list, 'Earnings_Date':earnings_Date_list})"
   ]
  },
  {
   "cell_type": "code",
   "execution_count": 344,
   "metadata": {
    "scrolled": true
   },
   "outputs": [
    {
     "data": {
      "text/html": [
       "<div>\n",
       "<style scoped>\n",
       "    .dataframe tbody tr th:only-of-type {\n",
       "        vertical-align: middle;\n",
       "    }\n",
       "\n",
       "    .dataframe tbody tr th {\n",
       "        vertical-align: top;\n",
       "    }\n",
       "\n",
       "    .dataframe thead th {\n",
       "        text-align: right;\n",
       "    }\n",
       "</style>\n",
       "<table border=\"1\" class=\"dataframe\">\n",
       "  <thead>\n",
       "    <tr style=\"text-align: right;\">\n",
       "      <th></th>\n",
       "      <th>Ticker</th>\n",
       "      <th>Close_Price</th>\n",
       "      <th>Volume</th>\n",
       "      <th>Mkt_Cap</th>\n",
       "      <th>EPS</th>\n",
       "      <th>Earnings_Date</th>\n",
       "    </tr>\n",
       "  </thead>\n",
       "  <tbody>\n",
       "    <tr>\n",
       "      <th>0</th>\n",
       "      <td>AAPL</td>\n",
       "      <td>199.23</td>\n",
       "      <td>24,410,391</td>\n",
       "      <td>939.52B</td>\n",
       "      <td>12.12</td>\n",
       "      <td>2019-02-08</td>\n",
       "    </tr>\n",
       "    <tr>\n",
       "      <th>1</th>\n",
       "      <td>FB</td>\n",
       "      <td>179.65</td>\n",
       "      <td>10,996,820</td>\n",
       "      <td>510.783B</td>\n",
       "      <td>7.57</td>\n",
       "      <td>N/A</td>\n",
       "    </tr>\n",
       "    <tr>\n",
       "      <th>2</th>\n",
       "      <td>IBM</td>\n",
       "      <td>143.90</td>\n",
       "      <td>5,951,960</td>\n",
       "      <td>129.155B</td>\n",
       "      <td>9.52</td>\n",
       "      <td>2019-02-07</td>\n",
       "    </tr>\n",
       "    <tr>\n",
       "      <th>3</th>\n",
       "      <td>MSFT</td>\n",
       "      <td>121.05</td>\n",
       "      <td>12,315,624</td>\n",
       "      <td>926.573B</td>\n",
       "      <td>4.31</td>\n",
       "      <td>2019-05-15</td>\n",
       "    </tr>\n",
       "  </tbody>\n",
       "</table>\n",
       "</div>"
      ],
      "text/plain": [
       "  Ticker Close_Price      Volume   Mkt_Cap    EPS Earnings_Date\n",
       "0   AAPL      199.23  24,410,391   939.52B  12.12    2019-02-08\n",
       "1     FB      179.65  10,996,820  510.783B   7.57           N/A\n",
       "2    IBM      143.90   5,951,960  129.155B   9.52    2019-02-07\n",
       "3   MSFT      121.05  12,315,624  926.573B   4.31    2019-05-15"
      ]
     },
     "execution_count": 344,
     "metadata": {},
     "output_type": "execute_result"
    }
   ],
   "source": [
    "summary_df"
   ]
  },
  {
   "cell_type": "code",
   "execution_count": 353,
   "metadata": {},
   "outputs": [],
   "source": [
    "# Create Summary dataframe\n",
    "profile_df = pd.DataFrame({'Ticker':tickers, 'Company_Name':company_name_list, 'Description':company_desc_list, 'Telephone':company_tel_list, 'Address':company_addr_list,\n",
    "                           'Key_Execs_Name':key_execs_n_list, 'Key_Execs_Title':key_execs_t_list,'Key_Execs_Salary':key_execs_s_list, \n",
    "                           'Mkt_Cap':mkt_cap_list, 'EPS':eps_list, 'Earnings_Date':earnings_Date_list, 'Web URL':url_list})"
   ]
  },
  {
   "cell_type": "code",
   "execution_count": 365,
   "metadata": {},
   "outputs": [
    {
     "ename": "SyntaxError",
     "evalue": "invalid syntax (<ipython-input-365-40b50f12e495>, line 2)",
     "output_type": "error",
     "traceback": [
      "\u001b[1;36m  File \u001b[1;32m\"<ipython-input-365-40b50f12e495>\"\u001b[1;36m, line \u001b[1;32m2\u001b[0m\n\u001b[1;33m    profile_df\u001b[0m\n\u001b[1;37m             ^\u001b[0m\n\u001b[1;31mSyntaxError\u001b[0m\u001b[1;31m:\u001b[0m invalid syntax\n"
     ]
    }
   ],
   "source": [
    "profile_df['Telephone'] = (profile_df['Telephone'].replace('-', '').astype(float)\n",
    "profile_df"
   ]
  },
  {
   "cell_type": "code",
   "execution_count": 348,
   "metadata": {},
   "outputs": [],
   "source": [
    "# Create sustainability dataframe\n",
    "sustainability_df = pd.DataFrame({'Ticker':tickers, 'Total_ESG_Score':total_ESG_score_list, 'AVG_Perf_Env':avg_perf_env_list,'Social_Score':social_score_list, 'Governance_Score':governance_score_list})"
   ]
  },
  {
   "cell_type": "code",
   "execution_count": 349,
   "metadata": {},
   "outputs": [
    {
     "data": {
      "text/html": [
       "<div>\n",
       "<style scoped>\n",
       "    .dataframe tbody tr th:only-of-type {\n",
       "        vertical-align: middle;\n",
       "    }\n",
       "\n",
       "    .dataframe tbody tr th {\n",
       "        vertical-align: top;\n",
       "    }\n",
       "\n",
       "    .dataframe thead th {\n",
       "        text-align: right;\n",
       "    }\n",
       "</style>\n",
       "<table border=\"1\" class=\"dataframe\">\n",
       "  <thead>\n",
       "    <tr style=\"text-align: right;\">\n",
       "      <th></th>\n",
       "      <th>Ticker</th>\n",
       "      <th>Total_ESG_Score</th>\n",
       "      <th>AVG_Perf_Env</th>\n",
       "      <th>Social_Score</th>\n",
       "      <th>Governance_Score</th>\n",
       "    </tr>\n",
       "  </thead>\n",
       "  <tbody>\n",
       "    <tr>\n",
       "      <th>0</th>\n",
       "      <td>AAPL</td>\n",
       "      <td>70</td>\n",
       "      <td>89</td>\n",
       "      <td>57</td>\n",
       "      <td>60</td>\n",
       "    </tr>\n",
       "    <tr>\n",
       "      <th>1</th>\n",
       "      <td>FB</td>\n",
       "      <td>59</td>\n",
       "      <td>62</td>\n",
       "      <td>67</td>\n",
       "      <td>42</td>\n",
       "    </tr>\n",
       "    <tr>\n",
       "      <th>2</th>\n",
       "      <td>IBM</td>\n",
       "      <td>74</td>\n",
       "      <td>87</td>\n",
       "      <td>74</td>\n",
       "      <td>60</td>\n",
       "    </tr>\n",
       "    <tr>\n",
       "      <th>3</th>\n",
       "      <td>MSFT</td>\n",
       "      <td>74</td>\n",
       "      <td>82</td>\n",
       "      <td>71</td>\n",
       "      <td>70</td>\n",
       "    </tr>\n",
       "  </tbody>\n",
       "</table>\n",
       "</div>"
      ],
      "text/plain": [
       "  Ticker Total_ESG_Score AVG_Perf_Env Social_Score Governance_Score\n",
       "0   AAPL              70           89           57               60\n",
       "1     FB              59           62           67               42\n",
       "2    IBM              74           87           74               60\n",
       "3   MSFT              74           82           71               70"
      ]
     },
     "execution_count": 349,
     "metadata": {},
     "output_type": "execute_result"
    }
   ],
   "source": [
    "sustainability_df"
   ]
  },
  {
   "cell_type": "code",
   "execution_count": 355,
   "metadata": {},
   "outputs": [],
   "source": [
    "# Database \n",
    "import pymysql\n",
    "from sqlalchemy import create_engine\n",
    "pymysql.install_as_MySQLdb()\n",
    "rds_connection_string = \"root:root123@127.0.0.1:3306/twitter_stocks_db\"\n",
    "engine = create_engine(f'mysql://{rds_connection_string}')"
   ]
  },
  {
   "cell_type": "code",
   "execution_count": 356,
   "metadata": {},
   "outputs": [
    {
     "data": {
      "text/plain": [
       "['profile', 'summary', 'sustainability']"
      ]
     },
     "execution_count": 356,
     "metadata": {},
     "output_type": "execute_result"
    }
   ],
   "source": [
    "engine.table_names()"
   ]
  },
  {
   "cell_type": "code",
   "execution_count": 360,
   "metadata": {},
   "outputs": [],
   "source": [
    "# converted DataFrame into database\n",
    "# summary_df.to_sql(name='summary', con=engine, if_exists='append', index=False)\n",
    "# # profile_df.to_sql(name='profile', con=engine, if_exists='append', index=False)\n",
    "sustainability_df.to_sql(name='sustainability', con=engine, if_exists='append', index=False)"
   ]
  },
  {
   "cell_type": "code",
   "execution_count": 359,
   "metadata": {},
   "outputs": [
    {
     "data": {
      "text/html": [
       "<div>\n",
       "<style scoped>\n",
       "    .dataframe tbody tr th:only-of-type {\n",
       "        vertical-align: middle;\n",
       "    }\n",
       "\n",
       "    .dataframe tbody tr th {\n",
       "        vertical-align: top;\n",
       "    }\n",
       "\n",
       "    .dataframe thead th {\n",
       "        text-align: right;\n",
       "    }\n",
       "</style>\n",
       "<table border=\"1\" class=\"dataframe\">\n",
       "  <thead>\n",
       "    <tr style=\"text-align: right;\">\n",
       "      <th></th>\n",
       "      <th>Ticker</th>\n",
       "      <th>Close_Price</th>\n",
       "      <th>Volume</th>\n",
       "      <th>Mkt_Cap</th>\n",
       "      <th>EPS</th>\n",
       "      <th>Earnings_Date</th>\n",
       "    </tr>\n",
       "  </thead>\n",
       "  <tbody>\n",
       "  </tbody>\n",
       "</table>\n",
       "</div>"
      ],
      "text/plain": [
       "Empty DataFrame\n",
       "Columns: [Ticker, Close_Price, Volume, Mkt_Cap, EPS, Earnings_Date]\n",
       "Index: []"
      ]
     },
     "execution_count": 359,
     "metadata": {},
     "output_type": "execute_result"
    }
   ],
   "source": [
    "pd.read_sql_query('select * from summary', con=engine).head()"
   ]
  },
  {
   "cell_type": "code",
   "execution_count": null,
   "metadata": {},
   "outputs": [],
   "source": [
    "pd.read_sql_query('select * from profile', con=engine).head()"
   ]
  },
  {
   "cell_type": "code",
   "execution_count": 361,
   "metadata": {},
   "outputs": [
    {
     "data": {
      "text/html": [
       "<div>\n",
       "<style scoped>\n",
       "    .dataframe tbody tr th:only-of-type {\n",
       "        vertical-align: middle;\n",
       "    }\n",
       "\n",
       "    .dataframe tbody tr th {\n",
       "        vertical-align: top;\n",
       "    }\n",
       "\n",
       "    .dataframe thead th {\n",
       "        text-align: right;\n",
       "    }\n",
       "</style>\n",
       "<table border=\"1\" class=\"dataframe\">\n",
       "  <thead>\n",
       "    <tr style=\"text-align: right;\">\n",
       "      <th></th>\n",
       "      <th>Ticker</th>\n",
       "      <th>Total_ESG_Score</th>\n",
       "      <th>AVG_Perf_Env</th>\n",
       "      <th>Social_Score</th>\n",
       "      <th>Governance_Score</th>\n",
       "    </tr>\n",
       "  </thead>\n",
       "  <tbody>\n",
       "    <tr>\n",
       "      <th>0</th>\n",
       "      <td>AAPL</td>\n",
       "      <td>70</td>\n",
       "      <td>89</td>\n",
       "      <td>57</td>\n",
       "      <td>60</td>\n",
       "    </tr>\n",
       "    <tr>\n",
       "      <th>1</th>\n",
       "      <td>FB</td>\n",
       "      <td>59</td>\n",
       "      <td>62</td>\n",
       "      <td>67</td>\n",
       "      <td>42</td>\n",
       "    </tr>\n",
       "    <tr>\n",
       "      <th>2</th>\n",
       "      <td>IBM</td>\n",
       "      <td>74</td>\n",
       "      <td>87</td>\n",
       "      <td>74</td>\n",
       "      <td>60</td>\n",
       "    </tr>\n",
       "    <tr>\n",
       "      <th>3</th>\n",
       "      <td>MSFT</td>\n",
       "      <td>74</td>\n",
       "      <td>82</td>\n",
       "      <td>71</td>\n",
       "      <td>70</td>\n",
       "    </tr>\n",
       "  </tbody>\n",
       "</table>\n",
       "</div>"
      ],
      "text/plain": [
       "  Ticker  Total_ESG_Score  AVG_Perf_Env  Social_Score  Governance_Score\n",
       "0   AAPL               70            89            57                60\n",
       "1     FB               59            62            67                42\n",
       "2    IBM               74            87            74                60\n",
       "3   MSFT               74            82            71                70"
      ]
     },
     "execution_count": 361,
     "metadata": {},
     "output_type": "execute_result"
    }
   ],
   "source": [
    "pd.read_sql_query('select * from sustainability', con=engine).head()"
   ]
  },
  {
   "cell_type": "code",
   "execution_count": null,
   "metadata": {},
   "outputs": [],
   "source": []
  }
 ],
 "metadata": {
  "kernelspec": {
   "display_name": "Python 3",
   "language": "python",
   "name": "python3"
  },
  "language_info": {
   "codemirror_mode": {
    "name": "ipython",
    "version": 3
   },
   "file_extension": ".py",
   "mimetype": "text/x-python",
   "name": "python",
   "nbconvert_exporter": "python",
   "pygments_lexer": "ipython3",
   "version": "3.7.1"
  }
 },
 "nbformat": 4,
 "nbformat_minor": 2
}
